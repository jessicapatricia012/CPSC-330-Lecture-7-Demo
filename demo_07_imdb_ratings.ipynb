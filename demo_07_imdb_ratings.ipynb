{
 "cells": [
  {
   "cell_type": "markdown",
   "id": "4c3d8bbc-473d-46dd-8d89-cb3f23c1f2de",
   "metadata": {
    "tags": []
   },
   "source": [
    "# Lectures 7: Class demo IMDB Reviews"
   ]
  },
  {
   "cell_type": "markdown",
   "id": "9babf668-3776-484d-a83f-9b1af3b43dd7",
   "metadata": {
    "slideshow": {
     "slide_type": "skip"
    }
   },
   "source": [
    "## Imports"
   ]
  },
  {
   "cell_type": "code",
   "execution_count": 1,
   "id": "d812265e-c771-4be8-9c02-5eae4a42121b",
   "metadata": {
    "slideshow": {
     "slide_type": "skip"
    }
   },
   "outputs": [],
   "source": [
    "import os\n",
    "import sys\n",
    "\n",
    "sys.path.append(os.path.join(\"code\"))\n",
    "from utils import *\n",
    "import matplotlib.pyplot as plt\n",
    "import mglearn\n",
    "import numpy as np\n",
    "import pandas as pd\n",
    "from plotting_functions import *\n",
    "from sklearn.dummy import DummyClassifier\n",
    "from sklearn.feature_extraction.text import CountVectorizer, TfidfVectorizer\n",
    "from sklearn.model_selection import cross_val_score, cross_validate, train_test_split\n",
    "from sklearn.pipeline import make_pipeline\n",
    "from sklearn.linear_model import LogisticRegression\n",
    "%matplotlib inline\n",
    "URL_DATA_DIR = \"https://github.com/firasm/bits/raw/refs/heads/master/imdb_small.csv\"\n",
    "pd.set_option(\"display.max_colwidth\", 200)"
   ]
  },
  {
   "cell_type": "markdown",
   "id": "fceade0f-bdc9-4989-b140-a5a10d62ad47",
   "metadata": {
    "slideshow": {
     "slide_type": "slide"
    }
   },
   "source": [
    "## Demo: Model interpretation of linear classifiers"
   ]
  },
  {
   "cell_type": "markdown",
   "id": "c9861131-b23b-4471-99a7-b4c54652da4b",
   "metadata": {
    "slideshow": {
     "slide_type": "slide"
    }
   },
   "source": [
    "- One of the primary advantage of linear classifiers is their ability to interpret models. \n",
    "- For example, with the sign and magnitude of learned coefficients we could answer questions such as which features are driving the prediction to which direction. "
   ]
  },
  {
   "cell_type": "markdown",
   "id": "dbf88452-bd66-4a36-b1d3-4f04c56291c5",
   "metadata": {
    "slideshow": {
     "slide_type": "slide"
    }
   },
   "source": [
    "- We'll demonstrate this by training `LogisticRegression` on the famous [IMDB movie review](https://www.kaggle.com/lakshmi25npathi/imdb-dataset-of-50k-movie-reviews) dataset. The dataset is a bit large for demonstration purposes. So I am going to put a big portion of it in the test split to speed things up. "
   ]
  },
  {
   "cell_type": "code",
   "execution_count": 9,
   "id": "84f30540-e09d-4d51-b9d7-8a36bf743162",
   "metadata": {},
   "outputs": [
    {
     "data": {
      "text/html": [
       "<div>\n",
       "<style scoped>\n",
       "    .dataframe tbody tr th:only-of-type {\n",
       "        vertical-align: middle;\n",
       "    }\n",
       "\n",
       "    .dataframe tbody tr th {\n",
       "        vertical-align: top;\n",
       "    }\n",
       "\n",
       "    .dataframe thead th {\n",
       "        text-align: right;\n",
       "    }\n",
       "</style>\n",
       "<table border=\"1\" class=\"dataframe\">\n",
       "  <thead>\n",
       "    <tr style=\"text-align: right;\">\n",
       "      <th></th>\n",
       "      <th>review</th>\n",
       "      <th>sentiment</th>\n",
       "    </tr>\n",
       "  </thead>\n",
       "  <tbody>\n",
       "    <tr>\n",
       "      <th>0</th>\n",
       "      <td>One of the other reviewers has mentioned that after watching just 1 Oz episode you'll be hooked. They are right, as this is exactly what happened with me.&lt;br /&gt;&lt;br /&gt;The first thing that struck me...</td>\n",
       "      <td>positive</td>\n",
       "    </tr>\n",
       "    <tr>\n",
       "      <th>1</th>\n",
       "      <td>A wonderful little production. &lt;br /&gt;&lt;br /&gt;The filming technique is very unassuming- very old-time-BBC fashion and gives a comforting, and sometimes discomforting, sense of realism to the entire p...</td>\n",
       "      <td>positive</td>\n",
       "    </tr>\n",
       "    <tr>\n",
       "      <th>2</th>\n",
       "      <td>I thought this was a wonderful way to spend time on a too hot summer weekend, sitting in the air conditioned theater and watching a light-hearted comedy. The plot is simplistic, but the dialogue i...</td>\n",
       "      <td>positive</td>\n",
       "    </tr>\n",
       "    <tr>\n",
       "      <th>3</th>\n",
       "      <td>Basically there's a family where a little boy (Jake) thinks there's a zombie in his closet &amp; his parents are fighting all the time.&lt;br /&gt;&lt;br /&gt;This movie is slower than a soap opera... and suddenl...</td>\n",
       "      <td>negative</td>\n",
       "    </tr>\n",
       "    <tr>\n",
       "      <th>4</th>\n",
       "      <td>Petter Mattei's \"Love in the Time of Money\" is a visually stunning film to watch. Mr. Mattei offers us a vivid portrait about human relations. This is a movie that seems to be telling us what mone...</td>\n",
       "      <td>positive</td>\n",
       "    </tr>\n",
       "  </tbody>\n",
       "</table>\n",
       "</div>"
      ],
      "text/plain": [
       "                                                                                                                                                                                                    review  \\\n",
       "0  One of the other reviewers has mentioned that after watching just 1 Oz episode you'll be hooked. They are right, as this is exactly what happened with me.<br /><br />The first thing that struck me...   \n",
       "1  A wonderful little production. <br /><br />The filming technique is very unassuming- very old-time-BBC fashion and gives a comforting, and sometimes discomforting, sense of realism to the entire p...   \n",
       "2  I thought this was a wonderful way to spend time on a too hot summer weekend, sitting in the air conditioned theater and watching a light-hearted comedy. The plot is simplistic, but the dialogue i...   \n",
       "3  Basically there's a family where a little boy (Jake) thinks there's a zombie in his closet & his parents are fighting all the time.<br /><br />This movie is slower than a soap opera... and suddenl...   \n",
       "4  Petter Mattei's \"Love in the Time of Money\" is a visually stunning film to watch. Mr. Mattei offers us a vivid portrait about human relations. This is a movie that seems to be telling us what mone...   \n",
       "\n",
       "  sentiment  \n",
       "0  positive  \n",
       "1  positive  \n",
       "2  positive  \n",
       "3  negative  \n",
       "4  positive  "
      ]
     },
     "execution_count": 9,
     "metadata": {},
     "output_type": "execute_result"
    }
   ],
   "source": [
    "imdb_df = pd.read_csv(URL_DATA_DIR, encoding=\"ISO-8859-1\")\n",
    "imdb_df.head()"
   ]
  },
  {
   "cell_type": "markdown",
   "id": "bdf4d270-7c3f-489c-b88a-ae70957274a8",
   "metadata": {
    "slideshow": {
     "slide_type": "slide"
    }
   },
   "source": [
    "Let's clean up the data a bit. "
   ]
  },
  {
   "cell_type": "code",
   "execution_count": 10,
   "id": "d1e4b670-3087-4426-aa82-a7bbc78e67d4",
   "metadata": {
    "slideshow": {
     "slide_type": "-"
    }
   },
   "outputs": [],
   "source": [
    "import re\n",
    "\n",
    "def replace_tags(doc):\n",
    "    doc = doc.replace(\"<br />\", \" \")\n",
    "    doc = re.sub(r\"https://\\S*\", \"\", doc)\n",
    "    return doc"
   ]
  },
  {
   "cell_type": "code",
   "execution_count": 11,
   "id": "b452783c-98a4-48f6-9f6d-a8c1a0b38766",
   "metadata": {
    "slideshow": {
     "slide_type": "-"
    }
   },
   "outputs": [],
   "source": [
    "imdb_df[\"review_pp\"] = imdb_df[\"review\"].apply(replace_tags)"
   ]
  },
  {
   "cell_type": "markdown",
   "id": "eef93373-043d-4a96-a2d6-19d542cccee1",
   "metadata": {},
   "source": [
    "### Activity: Discuss the following questions in your group\n",
    "\n",
    "- Are we breaking the Golden rule here?\n",
    "- Why or How?\n",
    "\n",
    "<br><br><br><br>"
   ]
  },
  {
   "cell_type": "markdown",
   "id": "00d3353d-0b4a-4019-904e-ccf51ea538fa",
   "metadata": {
    "slideshow": {
     "slide_type": "slide"
    }
   },
   "source": [
    "### Let's split the data and create bag of words representation.\n",
    "\n",
    "This is a very large dataset (and even now we're only working with a fifth of its actual size), so we're going to put a lot of it to the test set so the calculations don't take forever!"
   ]
  },
  {
   "cell_type": "code",
   "execution_count": 13,
   "id": "520ffaee-3d50-4ddd-8d3c-26818cc5d13a",
   "metadata": {
    "slideshow": {
     "slide_type": "-"
    }
   },
   "outputs": [
    {
     "data": {
      "text/plain": [
       "(2999, 3)"
      ]
     },
     "execution_count": 13,
     "metadata": {},
     "output_type": "execute_result"
    }
   ],
   "source": [
    "train_df, test_df = train_test_split(imdb_df, test_size=0.7, random_state=123)\n",
    "X_train, y_train = train_df[\"review_pp\"], train_df[\"sentiment\"]\n",
    "X_test, y_test = test_df[\"review_pp\"], test_df[\"sentiment\"]\n",
    "train_df.shape"
   ]
  },
  {
   "cell_type": "code",
   "execution_count": 14,
   "id": "20d205ba-8331-4864-b8e4-2fd1a0f41f13",
   "metadata": {},
   "outputs": [
    {
     "data": {
      "text/plain": [
       "<Compressed Sparse Row sparse matrix of dtype 'int64'\n",
       "\twith 262416 stored elements and shape (2999, 30438)>"
      ]
     },
     "execution_count": 14,
     "metadata": {},
     "output_type": "execute_result"
    }
   ],
   "source": [
    "vec = CountVectorizer(stop_words=\"english\")\n",
    "bow = vec.fit_transform(X_train)\n",
    "bow"
   ]
  },
  {
   "cell_type": "markdown",
   "id": "244f58c2-06d9-4317-9c9f-53e05f63fefb",
   "metadata": {
    "slideshow": {
     "slide_type": "slide"
    }
   },
   "source": [
    "### Examining the vocabulary"
   ]
  },
  {
   "cell_type": "markdown",
   "id": "bb41f6d8-94be-489a-93b0-1e886cbcb0e9",
   "metadata": {
    "slideshow": {
     "slide_type": "slide"
    }
   },
   "source": [
    "- The vocabulary (mapping from feature indices to actual words) can be obtained using `get_feature_names_out()` on the `CountVectorizer` object. "
   ]
  },
  {
   "cell_type": "code",
   "execution_count": 15,
   "id": "dbb6fe4e-f01e-45b9-aaad-e40c0bf34431",
   "metadata": {},
   "outputs": [],
   "source": [
    "vocab = vec.get_feature_names_out()"
   ]
  },
  {
   "cell_type": "code",
   "execution_count": 16,
   "id": "2f816df9-1ea0-4728-9f38-cf3f168c7466",
   "metadata": {
    "slideshow": {
     "slide_type": "slide"
    }
   },
   "outputs": [
    {
     "data": {
      "text/plain": [
       "array(['00', '000', '00001', '007', '00am', '01', '0126', '01pm', '02',\n",
       "       '04'], dtype=object)"
      ]
     },
     "execution_count": 16,
     "metadata": {},
     "output_type": "execute_result"
    }
   ],
   "source": [
    "vocab[0:10]  # first few words"
   ]
  },
  {
   "cell_type": "code",
   "execution_count": 17,
   "id": "4d20bba9-94a2-46ec-8046-87667322a32c",
   "metadata": {
    "slideshow": {
     "slide_type": "slide"
    }
   },
   "outputs": [
    {
     "data": {
      "text/plain": [
       "array(['au', 'aubrey', 'auction', 'audacious', 'audacity', 'audible',\n",
       "       'audience', 'audiences', 'audio', 'audit'], dtype=object)"
      ]
     },
     "execution_count": 17,
     "metadata": {},
     "output_type": "execute_result"
    }
   ],
   "source": [
    "vocab[2000:2010]  # some middle words"
   ]
  },
  {
   "cell_type": "code",
   "execution_count": 18,
   "id": "70c9290f-c4e2-4855-8261-f7c2633a865c",
   "metadata": {
    "slideshow": {
     "slide_type": "slide"
    }
   },
   "outputs": [
    {
     "data": {
      "text/plain": [
       "array(['00', 'academic', 'alberson', 'apartments', 'au', 'bats', 'bladk',\n",
       "       'branch', 'byrnes', 'cavepeople', 'chupacabras', 'comic',\n",
       "       'contribute', 'crossover', 'deceptions', 'devgun', 'disused',\n",
       "       'dungeon', 'employment', 'excessive', 'faust', 'fluent', 'fusing',\n",
       "       'glitches', 'guano', 'headless', 'honorary', 'impassioned',\n",
       "       'instructor', 'jefferson', 'killshot', 'learn', 'looker',\n",
       "       'manhole', 'mechanics', 'mistake', 'musgrove', 'nipped',\n",
       "       'onlookers', 'palpably', 'personally', 'polically', 'procedure',\n",
       "       'quips', 'redrum', 'restores', 'rory', 'scare', 'seriousness',\n",
       "       'silk', 'snout', 'sprinkled', 'stricken', 'swami', 'terence',\n",
       "       'topped', 'turgid', 'unmarysuish', 'vexes', 'wealth', 'woodward'],\n",
       "      dtype=object)"
      ]
     },
     "execution_count": 18,
     "metadata": {},
     "output_type": "execute_result"
    }
   ],
   "source": [
    "vocab[::500]  # words with a step of 500"
   ]
  },
  {
   "cell_type": "code",
   "execution_count": 19,
   "id": "062ae6ee-90b5-40f2-a537-3e60c42863b2",
   "metadata": {},
   "outputs": [
    {
     "data": {
      "text/plain": [
       "sentiment\n",
       "positive    1513\n",
       "negative    1486\n",
       "Name: count, dtype: int64"
      ]
     },
     "execution_count": 19,
     "metadata": {},
     "output_type": "execute_result"
    }
   ],
   "source": [
    "y_train.value_counts()"
   ]
  },
  {
   "cell_type": "markdown",
   "id": "5fb91777-ffce-4202-885a-82911f13ae77",
   "metadata": {
    "slideshow": {
     "slide_type": "slide"
    }
   },
   "source": [
    "### Model building on the dataset "
   ]
  },
  {
   "cell_type": "markdown",
   "id": "17825ada-4c67-4025-85c8-4a9c41ed591e",
   "metadata": {
    "slideshow": {
     "slide_type": "slide"
    }
   },
   "source": [
    "First let's try `DummyClassifier` on the dataset. "
   ]
  },
  {
   "cell_type": "code",
   "execution_count": 20,
   "id": "3faf6b7d-a526-4774-afc7-9d6b068126df",
   "metadata": {},
   "outputs": [
    {
     "data": {
      "text/html": [
       "<div>\n",
       "<style scoped>\n",
       "    .dataframe tbody tr th:only-of-type {\n",
       "        vertical-align: middle;\n",
       "    }\n",
       "\n",
       "    .dataframe tbody tr th {\n",
       "        vertical-align: top;\n",
       "    }\n",
       "\n",
       "    .dataframe thead th {\n",
       "        text-align: right;\n",
       "    }\n",
       "</style>\n",
       "<table border=\"1\" class=\"dataframe\">\n",
       "  <thead>\n",
       "    <tr style=\"text-align: right;\">\n",
       "      <th></th>\n",
       "      <th>fit_time</th>\n",
       "      <th>score_time</th>\n",
       "      <th>test_score</th>\n",
       "      <th>train_score</th>\n",
       "    </tr>\n",
       "  </thead>\n",
       "  <tbody>\n",
       "    <tr>\n",
       "      <th>0</th>\n",
       "      <td>0.001000</td>\n",
       "      <td>0.001999</td>\n",
       "      <td>0.505000</td>\n",
       "      <td>0.504377</td>\n",
       "    </tr>\n",
       "    <tr>\n",
       "      <th>1</th>\n",
       "      <td>0.000998</td>\n",
       "      <td>0.001003</td>\n",
       "      <td>0.505000</td>\n",
       "      <td>0.504377</td>\n",
       "    </tr>\n",
       "    <tr>\n",
       "      <th>2</th>\n",
       "      <td>0.001000</td>\n",
       "      <td>0.001001</td>\n",
       "      <td>0.505000</td>\n",
       "      <td>0.504377</td>\n",
       "    </tr>\n",
       "    <tr>\n",
       "      <th>3</th>\n",
       "      <td>0.002001</td>\n",
       "      <td>0.000999</td>\n",
       "      <td>0.503333</td>\n",
       "      <td>0.504794</td>\n",
       "    </tr>\n",
       "    <tr>\n",
       "      <th>4</th>\n",
       "      <td>0.001002</td>\n",
       "      <td>0.000999</td>\n",
       "      <td>0.504174</td>\n",
       "      <td>0.504583</td>\n",
       "    </tr>\n",
       "  </tbody>\n",
       "</table>\n",
       "</div>"
      ],
      "text/plain": [
       "   fit_time  score_time  test_score  train_score\n",
       "0  0.001000    0.001999    0.505000     0.504377\n",
       "1  0.000998    0.001003    0.505000     0.504377\n",
       "2  0.001000    0.001001    0.505000     0.504377\n",
       "3  0.002001    0.000999    0.503333     0.504794\n",
       "4  0.001002    0.000999    0.504174     0.504583"
      ]
     },
     "execution_count": 20,
     "metadata": {},
     "output_type": "execute_result"
    }
   ],
   "source": [
    "dummy = DummyClassifier()\n",
    "scores = cross_validate(dummy, X_train, y_train, return_train_score=True)\n",
    "pd.DataFrame(scores)"
   ]
  },
  {
   "cell_type": "markdown",
   "id": "f7b09701-e6a8-49b7-ba2c-be3418d187c4",
   "metadata": {},
   "source": [
    "We have a balanced dataset. So the `DummyClassifier` score is around 0.5. "
   ]
  },
  {
   "cell_type": "markdown",
   "id": "ac3e889b-c90f-4483-9a57-024303200cac",
   "metadata": {
    "slideshow": {
     "slide_type": "slide"
    }
   },
   "source": [
    "Now let's try logistic regression. "
   ]
  },
  {
   "cell_type": "code",
   "execution_count": 21,
   "id": "d4d4940a-ade4-4726-850e-776d03393e24",
   "metadata": {},
   "outputs": [
    {
     "data": {
      "text/html": [
       "<div>\n",
       "<style scoped>\n",
       "    .dataframe tbody tr th:only-of-type {\n",
       "        vertical-align: middle;\n",
       "    }\n",
       "\n",
       "    .dataframe tbody tr th {\n",
       "        vertical-align: top;\n",
       "    }\n",
       "\n",
       "    .dataframe thead th {\n",
       "        text-align: right;\n",
       "    }\n",
       "</style>\n",
       "<table border=\"1\" class=\"dataframe\">\n",
       "  <thead>\n",
       "    <tr style=\"text-align: right;\">\n",
       "      <th></th>\n",
       "      <th>fit_time</th>\n",
       "      <th>score_time</th>\n",
       "      <th>test_score</th>\n",
       "      <th>train_score</th>\n",
       "    </tr>\n",
       "  </thead>\n",
       "  <tbody>\n",
       "    <tr>\n",
       "      <th>0</th>\n",
       "      <td>0.461464</td>\n",
       "      <td>0.068000</td>\n",
       "      <td>0.850000</td>\n",
       "      <td>1.0</td>\n",
       "    </tr>\n",
       "    <tr>\n",
       "      <th>1</th>\n",
       "      <td>0.460001</td>\n",
       "      <td>0.077999</td>\n",
       "      <td>0.840000</td>\n",
       "      <td>1.0</td>\n",
       "    </tr>\n",
       "    <tr>\n",
       "      <th>2</th>\n",
       "      <td>0.487011</td>\n",
       "      <td>0.077001</td>\n",
       "      <td>0.820000</td>\n",
       "      <td>1.0</td>\n",
       "    </tr>\n",
       "    <tr>\n",
       "      <th>3</th>\n",
       "      <td>0.484000</td>\n",
       "      <td>0.096999</td>\n",
       "      <td>0.858333</td>\n",
       "      <td>1.0</td>\n",
       "    </tr>\n",
       "    <tr>\n",
       "      <th>4</th>\n",
       "      <td>0.413023</td>\n",
       "      <td>0.074001</td>\n",
       "      <td>0.828047</td>\n",
       "      <td>1.0</td>\n",
       "    </tr>\n",
       "  </tbody>\n",
       "</table>\n",
       "</div>"
      ],
      "text/plain": [
       "   fit_time  score_time  test_score  train_score\n",
       "0  0.461464    0.068000    0.850000          1.0\n",
       "1  0.460001    0.077999    0.840000          1.0\n",
       "2  0.487011    0.077001    0.820000          1.0\n",
       "3  0.484000    0.096999    0.858333          1.0\n",
       "4  0.413023    0.074001    0.828047          1.0"
      ]
     },
     "execution_count": 21,
     "metadata": {},
     "output_type": "execute_result"
    }
   ],
   "source": [
    "pipe_lr = make_pipeline(\n",
    "    CountVectorizer(stop_words=\"english\"),\n",
    "    LogisticRegression(max_iter=1000),\n",
    ")\n",
    "scores = cross_validate(pipe_lr, X_train, y_train, return_train_score=True)\n",
    "pd.DataFrame(scores)"
   ]
  },
  {
   "cell_type": "markdown",
   "id": "ada0ee11-b543-4a95-8e20-93f27dc80fc9",
   "metadata": {},
   "source": [
    "Seems like we are overfitting. Let's optimize the hyperparameter `C` of LR and `max_features` of `CountVectorizer`. "
   ]
  },
  {
   "cell_type": "code",
   "execution_count": 22,
   "id": "63811c83-a038-4ff2-b2f8-ec12ce50c53a",
   "metadata": {},
   "outputs": [
    {
     "data": {
      "text/html": [
       "<div>\n",
       "<style scoped>\n",
       "    .dataframe tbody tr th:only-of-type {\n",
       "        vertical-align: middle;\n",
       "    }\n",
       "\n",
       "    .dataframe tbody tr th {\n",
       "        vertical-align: top;\n",
       "    }\n",
       "\n",
       "    .dataframe thead th {\n",
       "        text-align: right;\n",
       "    }\n",
       "</style>\n",
       "<table border=\"1\" class=\"dataframe\">\n",
       "  <thead>\n",
       "    <tr style=\"text-align: right;\">\n",
       "      <th></th>\n",
       "      <th>C</th>\n",
       "      <th>mean_train_scores</th>\n",
       "      <th>mean_cv_scores</th>\n",
       "    </tr>\n",
       "  </thead>\n",
       "  <tbody>\n",
       "    <tr>\n",
       "      <th>0</th>\n",
       "      <td>0.001</td>\n",
       "      <td>0.821273</td>\n",
       "      <td>0.774924</td>\n",
       "    </tr>\n",
       "    <tr>\n",
       "      <th>1</th>\n",
       "      <td>0.010</td>\n",
       "      <td>0.930226</td>\n",
       "      <td>0.833939</td>\n",
       "    </tr>\n",
       "    <tr>\n",
       "      <th>2</th>\n",
       "      <td>0.100</td>\n",
       "      <td>0.992664</td>\n",
       "      <td>0.843608</td>\n",
       "    </tr>\n",
       "    <tr>\n",
       "      <th>3</th>\n",
       "      <td>1.000</td>\n",
       "      <td>1.000000</td>\n",
       "      <td>0.839943</td>\n",
       "    </tr>\n",
       "    <tr>\n",
       "      <th>4</th>\n",
       "      <td>10.000</td>\n",
       "      <td>1.000000</td>\n",
       "      <td>0.836610</td>\n",
       "    </tr>\n",
       "    <tr>\n",
       "      <th>5</th>\n",
       "      <td>100.000</td>\n",
       "      <td>1.000000</td>\n",
       "      <td>0.833609</td>\n",
       "    </tr>\n",
       "  </tbody>\n",
       "</table>\n",
       "</div>"
      ],
      "text/plain": [
       "         C  mean_train_scores  mean_cv_scores\n",
       "0    0.001           0.821273        0.774924\n",
       "1    0.010           0.930226        0.833939\n",
       "2    0.100           0.992664        0.843608\n",
       "3    1.000           1.000000        0.839943\n",
       "4   10.000           1.000000        0.836610\n",
       "5  100.000           1.000000        0.833609"
      ]
     },
     "execution_count": 22,
     "metadata": {},
     "output_type": "execute_result"
    }
   ],
   "source": [
    "scores_dict = {\n",
    "    \"C\": 10.0 ** np.arange(-3, 3, 1),\n",
    "    \"mean_train_scores\": list(),\n",
    "    \"mean_cv_scores\": list(),\n",
    "}\n",
    "for C in scores_dict[\"C\"]:\n",
    "    pipe_lr = make_pipeline(CountVectorizer(max_features=10_000, stop_words=\"english\"),\n",
    "                        LogisticRegression(max_iter=1000, C=C)\n",
    "                       )\n",
    "    scores = cross_validate(pipe_lr, X_train, y_train, return_train_score=True)\n",
    "    scores_dict[\"mean_train_scores\"].append(scores[\"train_score\"].mean())\n",
    "    scores_dict[\"mean_cv_scores\"].append(scores[\"test_score\"].mean())\n",
    "\n",
    "results_df = pd.DataFrame(scores_dict)\n",
    "results_df"
   ]
  },
  {
   "cell_type": "code",
   "execution_count": 23,
   "id": "9a6291cb-8d0c-4674-963c-cb2a6f9f2433",
   "metadata": {},
   "outputs": [
    {
     "name": "stdout",
     "output_type": "stream",
     "text": [
      "The maximum validation score is 0.844 at C = 0.10 \n"
     ]
    }
   ],
   "source": [
    "optimized_C = results_df[\"C\"][results_df[\"mean_cv_scores\"].idxmax()]\n",
    "print(\n",
    "    \"The maximum validation score is %0.3f at C = %0.2f \"\n",
    "    % (\n",
    "        np.max(results_df[\"mean_cv_scores\"]),\n",
    "        optimized_C,\n",
    "    ))"
   ]
  },
  {
   "cell_type": "code",
   "execution_count": 25,
   "id": "1db0df97-9fd6-428a-9170-6bf5f4e7f85c",
   "metadata": {},
   "outputs": [
    {
     "data": {
      "text/html": [
       "<style>#sk-container-id-2 {\n",
       "  /* Definition of color scheme common for light and dark mode */\n",
       "  --sklearn-color-text: #000;\n",
       "  --sklearn-color-text-muted: #666;\n",
       "  --sklearn-color-line: gray;\n",
       "  /* Definition of color scheme for unfitted estimators */\n",
       "  --sklearn-color-unfitted-level-0: #fff5e6;\n",
       "  --sklearn-color-unfitted-level-1: #f6e4d2;\n",
       "  --sklearn-color-unfitted-level-2: #ffe0b3;\n",
       "  --sklearn-color-unfitted-level-3: chocolate;\n",
       "  /* Definition of color scheme for fitted estimators */\n",
       "  --sklearn-color-fitted-level-0: #f0f8ff;\n",
       "  --sklearn-color-fitted-level-1: #d4ebff;\n",
       "  --sklearn-color-fitted-level-2: #b3dbfd;\n",
       "  --sklearn-color-fitted-level-3: cornflowerblue;\n",
       "\n",
       "  /* Specific color for light theme */\n",
       "  --sklearn-color-text-on-default-background: var(--sg-text-color, var(--theme-code-foreground, var(--jp-content-font-color1, black)));\n",
       "  --sklearn-color-background: var(--sg-background-color, var(--theme-background, var(--jp-layout-color0, white)));\n",
       "  --sklearn-color-border-box: var(--sg-text-color, var(--theme-code-foreground, var(--jp-content-font-color1, black)));\n",
       "  --sklearn-color-icon: #696969;\n",
       "\n",
       "  @media (prefers-color-scheme: dark) {\n",
       "    /* Redefinition of color scheme for dark theme */\n",
       "    --sklearn-color-text-on-default-background: var(--sg-text-color, var(--theme-code-foreground, var(--jp-content-font-color1, white)));\n",
       "    --sklearn-color-background: var(--sg-background-color, var(--theme-background, var(--jp-layout-color0, #111)));\n",
       "    --sklearn-color-border-box: var(--sg-text-color, var(--theme-code-foreground, var(--jp-content-font-color1, white)));\n",
       "    --sklearn-color-icon: #878787;\n",
       "  }\n",
       "}\n",
       "\n",
       "#sk-container-id-2 {\n",
       "  color: var(--sklearn-color-text);\n",
       "}\n",
       "\n",
       "#sk-container-id-2 pre {\n",
       "  padding: 0;\n",
       "}\n",
       "\n",
       "#sk-container-id-2 input.sk-hidden--visually {\n",
       "  border: 0;\n",
       "  clip: rect(1px 1px 1px 1px);\n",
       "  clip: rect(1px, 1px, 1px, 1px);\n",
       "  height: 1px;\n",
       "  margin: -1px;\n",
       "  overflow: hidden;\n",
       "  padding: 0;\n",
       "  position: absolute;\n",
       "  width: 1px;\n",
       "}\n",
       "\n",
       "#sk-container-id-2 div.sk-dashed-wrapped {\n",
       "  border: 1px dashed var(--sklearn-color-line);\n",
       "  margin: 0 0.4em 0.5em 0.4em;\n",
       "  box-sizing: border-box;\n",
       "  padding-bottom: 0.4em;\n",
       "  background-color: var(--sklearn-color-background);\n",
       "}\n",
       "\n",
       "#sk-container-id-2 div.sk-container {\n",
       "  /* jupyter's `normalize.less` sets `[hidden] { display: none; }`\n",
       "     but bootstrap.min.css set `[hidden] { display: none !important; }`\n",
       "     so we also need the `!important` here to be able to override the\n",
       "     default hidden behavior on the sphinx rendered scikit-learn.org.\n",
       "     See: https://github.com/scikit-learn/scikit-learn/issues/21755 */\n",
       "  display: inline-block !important;\n",
       "  position: relative;\n",
       "}\n",
       "\n",
       "#sk-container-id-2 div.sk-text-repr-fallback {\n",
       "  display: none;\n",
       "}\n",
       "\n",
       "div.sk-parallel-item,\n",
       "div.sk-serial,\n",
       "div.sk-item {\n",
       "  /* draw centered vertical line to link estimators */\n",
       "  background-image: linear-gradient(var(--sklearn-color-text-on-default-background), var(--sklearn-color-text-on-default-background));\n",
       "  background-size: 2px 100%;\n",
       "  background-repeat: no-repeat;\n",
       "  background-position: center center;\n",
       "}\n",
       "\n",
       "/* Parallel-specific style estimator block */\n",
       "\n",
       "#sk-container-id-2 div.sk-parallel-item::after {\n",
       "  content: \"\";\n",
       "  width: 100%;\n",
       "  border-bottom: 2px solid var(--sklearn-color-text-on-default-background);\n",
       "  flex-grow: 1;\n",
       "}\n",
       "\n",
       "#sk-container-id-2 div.sk-parallel {\n",
       "  display: flex;\n",
       "  align-items: stretch;\n",
       "  justify-content: center;\n",
       "  background-color: var(--sklearn-color-background);\n",
       "  position: relative;\n",
       "}\n",
       "\n",
       "#sk-container-id-2 div.sk-parallel-item {\n",
       "  display: flex;\n",
       "  flex-direction: column;\n",
       "}\n",
       "\n",
       "#sk-container-id-2 div.sk-parallel-item:first-child::after {\n",
       "  align-self: flex-end;\n",
       "  width: 50%;\n",
       "}\n",
       "\n",
       "#sk-container-id-2 div.sk-parallel-item:last-child::after {\n",
       "  align-self: flex-start;\n",
       "  width: 50%;\n",
       "}\n",
       "\n",
       "#sk-container-id-2 div.sk-parallel-item:only-child::after {\n",
       "  width: 0;\n",
       "}\n",
       "\n",
       "/* Serial-specific style estimator block */\n",
       "\n",
       "#sk-container-id-2 div.sk-serial {\n",
       "  display: flex;\n",
       "  flex-direction: column;\n",
       "  align-items: center;\n",
       "  background-color: var(--sklearn-color-background);\n",
       "  padding-right: 1em;\n",
       "  padding-left: 1em;\n",
       "}\n",
       "\n",
       "\n",
       "/* Toggleable style: style used for estimator/Pipeline/ColumnTransformer box that is\n",
       "clickable and can be expanded/collapsed.\n",
       "- Pipeline and ColumnTransformer use this feature and define the default style\n",
       "- Estimators will overwrite some part of the style using the `sk-estimator` class\n",
       "*/\n",
       "\n",
       "/* Pipeline and ColumnTransformer style (default) */\n",
       "\n",
       "#sk-container-id-2 div.sk-toggleable {\n",
       "  /* Default theme specific background. It is overwritten whether we have a\n",
       "  specific estimator or a Pipeline/ColumnTransformer */\n",
       "  background-color: var(--sklearn-color-background);\n",
       "}\n",
       "\n",
       "/* Toggleable label */\n",
       "#sk-container-id-2 label.sk-toggleable__label {\n",
       "  cursor: pointer;\n",
       "  display: flex;\n",
       "  width: 100%;\n",
       "  margin-bottom: 0;\n",
       "  padding: 0.5em;\n",
       "  box-sizing: border-box;\n",
       "  text-align: center;\n",
       "  align-items: start;\n",
       "  justify-content: space-between;\n",
       "  gap: 0.5em;\n",
       "}\n",
       "\n",
       "#sk-container-id-2 label.sk-toggleable__label .caption {\n",
       "  font-size: 0.6rem;\n",
       "  font-weight: lighter;\n",
       "  color: var(--sklearn-color-text-muted);\n",
       "}\n",
       "\n",
       "#sk-container-id-2 label.sk-toggleable__label-arrow:before {\n",
       "  /* Arrow on the left of the label */\n",
       "  content: \"▸\";\n",
       "  float: left;\n",
       "  margin-right: 0.25em;\n",
       "  color: var(--sklearn-color-icon);\n",
       "}\n",
       "\n",
       "#sk-container-id-2 label.sk-toggleable__label-arrow:hover:before {\n",
       "  color: var(--sklearn-color-text);\n",
       "}\n",
       "\n",
       "/* Toggleable content - dropdown */\n",
       "\n",
       "#sk-container-id-2 div.sk-toggleable__content {\n",
       "  max-height: 0;\n",
       "  max-width: 0;\n",
       "  overflow: hidden;\n",
       "  text-align: left;\n",
       "  /* unfitted */\n",
       "  background-color: var(--sklearn-color-unfitted-level-0);\n",
       "}\n",
       "\n",
       "#sk-container-id-2 div.sk-toggleable__content.fitted {\n",
       "  /* fitted */\n",
       "  background-color: var(--sklearn-color-fitted-level-0);\n",
       "}\n",
       "\n",
       "#sk-container-id-2 div.sk-toggleable__content pre {\n",
       "  margin: 0.2em;\n",
       "  border-radius: 0.25em;\n",
       "  color: var(--sklearn-color-text);\n",
       "  /* unfitted */\n",
       "  background-color: var(--sklearn-color-unfitted-level-0);\n",
       "}\n",
       "\n",
       "#sk-container-id-2 div.sk-toggleable__content.fitted pre {\n",
       "  /* unfitted */\n",
       "  background-color: var(--sklearn-color-fitted-level-0);\n",
       "}\n",
       "\n",
       "#sk-container-id-2 input.sk-toggleable__control:checked~div.sk-toggleable__content {\n",
       "  /* Expand drop-down */\n",
       "  max-height: 200px;\n",
       "  max-width: 100%;\n",
       "  overflow: auto;\n",
       "}\n",
       "\n",
       "#sk-container-id-2 input.sk-toggleable__control:checked~label.sk-toggleable__label-arrow:before {\n",
       "  content: \"▾\";\n",
       "}\n",
       "\n",
       "/* Pipeline/ColumnTransformer-specific style */\n",
       "\n",
       "#sk-container-id-2 div.sk-label input.sk-toggleable__control:checked~label.sk-toggleable__label {\n",
       "  color: var(--sklearn-color-text);\n",
       "  background-color: var(--sklearn-color-unfitted-level-2);\n",
       "}\n",
       "\n",
       "#sk-container-id-2 div.sk-label.fitted input.sk-toggleable__control:checked~label.sk-toggleable__label {\n",
       "  background-color: var(--sklearn-color-fitted-level-2);\n",
       "}\n",
       "\n",
       "/* Estimator-specific style */\n",
       "\n",
       "/* Colorize estimator box */\n",
       "#sk-container-id-2 div.sk-estimator input.sk-toggleable__control:checked~label.sk-toggleable__label {\n",
       "  /* unfitted */\n",
       "  background-color: var(--sklearn-color-unfitted-level-2);\n",
       "}\n",
       "\n",
       "#sk-container-id-2 div.sk-estimator.fitted input.sk-toggleable__control:checked~label.sk-toggleable__label {\n",
       "  /* fitted */\n",
       "  background-color: var(--sklearn-color-fitted-level-2);\n",
       "}\n",
       "\n",
       "#sk-container-id-2 div.sk-label label.sk-toggleable__label,\n",
       "#sk-container-id-2 div.sk-label label {\n",
       "  /* The background is the default theme color */\n",
       "  color: var(--sklearn-color-text-on-default-background);\n",
       "}\n",
       "\n",
       "/* On hover, darken the color of the background */\n",
       "#sk-container-id-2 div.sk-label:hover label.sk-toggleable__label {\n",
       "  color: var(--sklearn-color-text);\n",
       "  background-color: var(--sklearn-color-unfitted-level-2);\n",
       "}\n",
       "\n",
       "/* Label box, darken color on hover, fitted */\n",
       "#sk-container-id-2 div.sk-label.fitted:hover label.sk-toggleable__label.fitted {\n",
       "  color: var(--sklearn-color-text);\n",
       "  background-color: var(--sklearn-color-fitted-level-2);\n",
       "}\n",
       "\n",
       "/* Estimator label */\n",
       "\n",
       "#sk-container-id-2 div.sk-label label {\n",
       "  font-family: monospace;\n",
       "  font-weight: bold;\n",
       "  display: inline-block;\n",
       "  line-height: 1.2em;\n",
       "}\n",
       "\n",
       "#sk-container-id-2 div.sk-label-container {\n",
       "  text-align: center;\n",
       "}\n",
       "\n",
       "/* Estimator-specific */\n",
       "#sk-container-id-2 div.sk-estimator {\n",
       "  font-family: monospace;\n",
       "  border: 1px dotted var(--sklearn-color-border-box);\n",
       "  border-radius: 0.25em;\n",
       "  box-sizing: border-box;\n",
       "  margin-bottom: 0.5em;\n",
       "  /* unfitted */\n",
       "  background-color: var(--sklearn-color-unfitted-level-0);\n",
       "}\n",
       "\n",
       "#sk-container-id-2 div.sk-estimator.fitted {\n",
       "  /* fitted */\n",
       "  background-color: var(--sklearn-color-fitted-level-0);\n",
       "}\n",
       "\n",
       "/* on hover */\n",
       "#sk-container-id-2 div.sk-estimator:hover {\n",
       "  /* unfitted */\n",
       "  background-color: var(--sklearn-color-unfitted-level-2);\n",
       "}\n",
       "\n",
       "#sk-container-id-2 div.sk-estimator.fitted:hover {\n",
       "  /* fitted */\n",
       "  background-color: var(--sklearn-color-fitted-level-2);\n",
       "}\n",
       "\n",
       "/* Specification for estimator info (e.g. \"i\" and \"?\") */\n",
       "\n",
       "/* Common style for \"i\" and \"?\" */\n",
       "\n",
       ".sk-estimator-doc-link,\n",
       "a:link.sk-estimator-doc-link,\n",
       "a:visited.sk-estimator-doc-link {\n",
       "  float: right;\n",
       "  font-size: smaller;\n",
       "  line-height: 1em;\n",
       "  font-family: monospace;\n",
       "  background-color: var(--sklearn-color-background);\n",
       "  border-radius: 1em;\n",
       "  height: 1em;\n",
       "  width: 1em;\n",
       "  text-decoration: none !important;\n",
       "  margin-left: 0.5em;\n",
       "  text-align: center;\n",
       "  /* unfitted */\n",
       "  border: var(--sklearn-color-unfitted-level-1) 1pt solid;\n",
       "  color: var(--sklearn-color-unfitted-level-1);\n",
       "}\n",
       "\n",
       ".sk-estimator-doc-link.fitted,\n",
       "a:link.sk-estimator-doc-link.fitted,\n",
       "a:visited.sk-estimator-doc-link.fitted {\n",
       "  /* fitted */\n",
       "  border: var(--sklearn-color-fitted-level-1) 1pt solid;\n",
       "  color: var(--sklearn-color-fitted-level-1);\n",
       "}\n",
       "\n",
       "/* On hover */\n",
       "div.sk-estimator:hover .sk-estimator-doc-link:hover,\n",
       ".sk-estimator-doc-link:hover,\n",
       "div.sk-label-container:hover .sk-estimator-doc-link:hover,\n",
       ".sk-estimator-doc-link:hover {\n",
       "  /* unfitted */\n",
       "  background-color: var(--sklearn-color-unfitted-level-3);\n",
       "  color: var(--sklearn-color-background);\n",
       "  text-decoration: none;\n",
       "}\n",
       "\n",
       "div.sk-estimator.fitted:hover .sk-estimator-doc-link.fitted:hover,\n",
       ".sk-estimator-doc-link.fitted:hover,\n",
       "div.sk-label-container:hover .sk-estimator-doc-link.fitted:hover,\n",
       ".sk-estimator-doc-link.fitted:hover {\n",
       "  /* fitted */\n",
       "  background-color: var(--sklearn-color-fitted-level-3);\n",
       "  color: var(--sklearn-color-background);\n",
       "  text-decoration: none;\n",
       "}\n",
       "\n",
       "/* Span, style for the box shown on hovering the info icon */\n",
       ".sk-estimator-doc-link span {\n",
       "  display: none;\n",
       "  z-index: 9999;\n",
       "  position: relative;\n",
       "  font-weight: normal;\n",
       "  right: .2ex;\n",
       "  padding: .5ex;\n",
       "  margin: .5ex;\n",
       "  width: min-content;\n",
       "  min-width: 20ex;\n",
       "  max-width: 50ex;\n",
       "  color: var(--sklearn-color-text);\n",
       "  box-shadow: 2pt 2pt 4pt #999;\n",
       "  /* unfitted */\n",
       "  background: var(--sklearn-color-unfitted-level-0);\n",
       "  border: .5pt solid var(--sklearn-color-unfitted-level-3);\n",
       "}\n",
       "\n",
       ".sk-estimator-doc-link.fitted span {\n",
       "  /* fitted */\n",
       "  background: var(--sklearn-color-fitted-level-0);\n",
       "  border: var(--sklearn-color-fitted-level-3);\n",
       "}\n",
       "\n",
       ".sk-estimator-doc-link:hover span {\n",
       "  display: block;\n",
       "}\n",
       "\n",
       "/* \"?\"-specific style due to the `<a>` HTML tag */\n",
       "\n",
       "#sk-container-id-2 a.estimator_doc_link {\n",
       "  float: right;\n",
       "  font-size: 1rem;\n",
       "  line-height: 1em;\n",
       "  font-family: monospace;\n",
       "  background-color: var(--sklearn-color-background);\n",
       "  border-radius: 1rem;\n",
       "  height: 1rem;\n",
       "  width: 1rem;\n",
       "  text-decoration: none;\n",
       "  /* unfitted */\n",
       "  color: var(--sklearn-color-unfitted-level-1);\n",
       "  border: var(--sklearn-color-unfitted-level-1) 1pt solid;\n",
       "}\n",
       "\n",
       "#sk-container-id-2 a.estimator_doc_link.fitted {\n",
       "  /* fitted */\n",
       "  border: var(--sklearn-color-fitted-level-1) 1pt solid;\n",
       "  color: var(--sklearn-color-fitted-level-1);\n",
       "}\n",
       "\n",
       "/* On hover */\n",
       "#sk-container-id-2 a.estimator_doc_link:hover {\n",
       "  /* unfitted */\n",
       "  background-color: var(--sklearn-color-unfitted-level-3);\n",
       "  color: var(--sklearn-color-background);\n",
       "  text-decoration: none;\n",
       "}\n",
       "\n",
       "#sk-container-id-2 a.estimator_doc_link.fitted:hover {\n",
       "  /* fitted */\n",
       "  background-color: var(--sklearn-color-fitted-level-3);\n",
       "}\n",
       "</style><div id=\"sk-container-id-2\" class=\"sk-top-container\"><div class=\"sk-text-repr-fallback\"><pre>Pipeline(steps=[(&#x27;countvectorizer&#x27;,\n",
       "                 CountVectorizer(max_features=10000, stop_words=&#x27;english&#x27;)),\n",
       "                (&#x27;logisticregression&#x27;,\n",
       "                 LogisticRegression(C=0.1, max_iter=1000))])</pre><b>In a Jupyter environment, please rerun this cell to show the HTML representation or trust the notebook. <br />On GitHub, the HTML representation is unable to render, please try loading this page with nbviewer.org.</b></div><div class=\"sk-container\" hidden><div class=\"sk-item sk-dashed-wrapped\"><div class=\"sk-label-container\"><div class=\"sk-label fitted sk-toggleable\"><input class=\"sk-toggleable__control sk-hidden--visually\" id=\"sk-estimator-id-4\" type=\"checkbox\" ><label for=\"sk-estimator-id-4\" class=\"sk-toggleable__label fitted sk-toggleable__label-arrow\"><div><div>Pipeline</div></div><div><a class=\"sk-estimator-doc-link fitted\" rel=\"noreferrer\" target=\"_blank\" href=\"https://scikit-learn.org/1.6/modules/generated/sklearn.pipeline.Pipeline.html\">?<span>Documentation for Pipeline</span></a><span class=\"sk-estimator-doc-link fitted\">i<span>Fitted</span></span></div></label><div class=\"sk-toggleable__content fitted\"><pre>Pipeline(steps=[(&#x27;countvectorizer&#x27;,\n",
       "                 CountVectorizer(max_features=10000, stop_words=&#x27;english&#x27;)),\n",
       "                (&#x27;logisticregression&#x27;,\n",
       "                 LogisticRegression(C=0.1, max_iter=1000))])</pre></div> </div></div><div class=\"sk-serial\"><div class=\"sk-item\"><div class=\"sk-estimator fitted sk-toggleable\"><input class=\"sk-toggleable__control sk-hidden--visually\" id=\"sk-estimator-id-5\" type=\"checkbox\" ><label for=\"sk-estimator-id-5\" class=\"sk-toggleable__label fitted sk-toggleable__label-arrow\"><div><div>CountVectorizer</div></div><div><a class=\"sk-estimator-doc-link fitted\" rel=\"noreferrer\" target=\"_blank\" href=\"https://scikit-learn.org/1.6/modules/generated/sklearn.feature_extraction.text.CountVectorizer.html\">?<span>Documentation for CountVectorizer</span></a></div></label><div class=\"sk-toggleable__content fitted\"><pre>CountVectorizer(max_features=10000, stop_words=&#x27;english&#x27;)</pre></div> </div></div><div class=\"sk-item\"><div class=\"sk-estimator fitted sk-toggleable\"><input class=\"sk-toggleable__control sk-hidden--visually\" id=\"sk-estimator-id-6\" type=\"checkbox\" ><label for=\"sk-estimator-id-6\" class=\"sk-toggleable__label fitted sk-toggleable__label-arrow\"><div><div>LogisticRegression</div></div><div><a class=\"sk-estimator-doc-link fitted\" rel=\"noreferrer\" target=\"_blank\" href=\"https://scikit-learn.org/1.6/modules/generated/sklearn.linear_model.LogisticRegression.html\">?<span>Documentation for LogisticRegression</span></a></div></label><div class=\"sk-toggleable__content fitted\"><pre>LogisticRegression(C=0.1, max_iter=1000)</pre></div> </div></div></div></div></div></div>"
      ],
      "text/plain": [
       "Pipeline(steps=[('countvectorizer',\n",
       "                 CountVectorizer(max_features=10000, stop_words='english')),\n",
       "                ('logisticregression',\n",
       "                 LogisticRegression(C=0.1, max_iter=1000))])"
      ]
     },
     "execution_count": 25,
     "metadata": {},
     "output_type": "execute_result"
    }
   ],
   "source": [
    "pipe_lr = make_pipeline(CountVectorizer(max_features=10000, stop_words=\"english\"),\n",
    "                        LogisticRegression(max_iter=1000, C = 0.10)\n",
    "                       )\n",
    "pipe_lr.fit(X_train, y_train)"
   ]
  },
  {
   "cell_type": "markdown",
   "id": "6a7a8641-7b35-4fe3-b39e-381ea072942a",
   "metadata": {
    "slideshow": {
     "slide_type": "slide"
    }
   },
   "source": [
    "### Examining learned coefficients "
   ]
  },
  {
   "cell_type": "markdown",
   "id": "d9f51909-32d4-4f64-946c-2182b006da5b",
   "metadata": {
    "slideshow": {
     "slide_type": "-"
    }
   },
   "source": [
    "- The learned coefficients are exposed by the `coef_` attribute of [LogisticRegression](http://scikit-learn.org/stable/modules/generated/sklearn.linear_model.LogisticRegression.html) object. "
   ]
  },
  {
   "cell_type": "code",
   "execution_count": 26,
   "id": "a00cbdb7-7da2-4472-b5f1-3b7b60ce170f",
   "metadata": {
    "editable": true,
    "slideshow": {
     "slide_type": ""
    },
    "tags": []
   },
   "outputs": [],
   "source": [
    "# Get feature names\n",
    "feature_names = pipe_lr.named_steps['countvectorizer'].get_feature_names_out().tolist()\n",
    "\n",
    "# Get coefficients \n",
    "coeffs = pipe_lr.named_steps[\"logisticregression\"].coef_.flatten()"
   ]
  },
  {
   "cell_type": "code",
   "execution_count": 27,
   "id": "6cf51300-765c-49d2-a87c-8fca9410e00d",
   "metadata": {
    "editable": true,
    "slideshow": {
     "slide_type": ""
    },
    "tags": []
   },
   "outputs": [
    {
     "data": {
      "text/html": [
       "<div>\n",
       "<style scoped>\n",
       "    .dataframe tbody tr th:only-of-type {\n",
       "        vertical-align: middle;\n",
       "    }\n",
       "\n",
       "    .dataframe tbody tr th {\n",
       "        vertical-align: top;\n",
       "    }\n",
       "\n",
       "    .dataframe thead th {\n",
       "        text-align: right;\n",
       "    }\n",
       "</style>\n",
       "<table border=\"1\" class=\"dataframe\">\n",
       "  <thead>\n",
       "    <tr style=\"text-align: right;\">\n",
       "      <th></th>\n",
       "      <th>Coefficient</th>\n",
       "    </tr>\n",
       "  </thead>\n",
       "  <tbody>\n",
       "    <tr>\n",
       "      <th>00</th>\n",
       "      <td>0.000523</td>\n",
       "    </tr>\n",
       "    <tr>\n",
       "      <th>000</th>\n",
       "      <td>0.004950</td>\n",
       "    </tr>\n",
       "    <tr>\n",
       "      <th>007</th>\n",
       "      <td>0.074111</td>\n",
       "    </tr>\n",
       "    <tr>\n",
       "      <th>01</th>\n",
       "      <td>0.017173</td>\n",
       "    </tr>\n",
       "    <tr>\n",
       "      <th>10</th>\n",
       "      <td>-0.047450</td>\n",
       "    </tr>\n",
       "    <tr>\n",
       "      <th>...</th>\n",
       "      <td>...</td>\n",
       "    </tr>\n",
       "    <tr>\n",
       "      <th>zombie</th>\n",
       "      <td>0.036335</td>\n",
       "    </tr>\n",
       "    <tr>\n",
       "      <th>zombies</th>\n",
       "      <td>-0.009433</td>\n",
       "    </tr>\n",
       "    <tr>\n",
       "      <th>zone</th>\n",
       "      <td>0.093419</td>\n",
       "    </tr>\n",
       "    <tr>\n",
       "      <th>zoom</th>\n",
       "      <td>-0.011210</td>\n",
       "    </tr>\n",
       "    <tr>\n",
       "      <th>zorro</th>\n",
       "      <td>0.048237</td>\n",
       "    </tr>\n",
       "  </tbody>\n",
       "</table>\n",
       "<p>10000 rows × 1 columns</p>\n",
       "</div>"
      ],
      "text/plain": [
       "         Coefficient\n",
       "00          0.000523\n",
       "000         0.004950\n",
       "007         0.074111\n",
       "01          0.017173\n",
       "10         -0.047450\n",
       "...              ...\n",
       "zombie      0.036335\n",
       "zombies    -0.009433\n",
       "zone        0.093419\n",
       "zoom       -0.011210\n",
       "zorro       0.048237\n",
       "\n",
       "[10000 rows x 1 columns]"
      ]
     },
     "execution_count": 27,
     "metadata": {},
     "output_type": "execute_result"
    }
   ],
   "source": [
    "word_coeff_df = pd.DataFrame(coeffs, index=feature_names, columns=[\"Coefficient\"])\n",
    "word_coeff_df"
   ]
  },
  {
   "cell_type": "markdown",
   "id": "dc85fc24-317d-4e67-bbc4-f4bf794cad5a",
   "metadata": {
    "slideshow": {
     "slide_type": "slide"
    }
   },
   "source": [
    "- Let's sort the coefficients in descending order. \n",
    "- Interpretation\n",
    "    - if $w_j > 0$ then increasing $x_{ij}$ moves us toward predicting $+1$. \n",
    "    - if $w_j < 0$ then increasing $x_{ij}$ moves us toward predicting $-1$. \n"
   ]
  },
  {
   "cell_type": "code",
   "execution_count": 28,
   "id": "6ff5bcbb-da25-4e14-8ba3-c879a33a07c0",
   "metadata": {
    "editable": true,
    "slideshow": {
     "slide_type": ""
    },
    "tags": []
   },
   "outputs": [
    {
     "data": {
      "text/html": [
       "<div>\n",
       "<style scoped>\n",
       "    .dataframe tbody tr th:only-of-type {\n",
       "        vertical-align: middle;\n",
       "    }\n",
       "\n",
       "    .dataframe tbody tr th {\n",
       "        vertical-align: top;\n",
       "    }\n",
       "\n",
       "    .dataframe thead th {\n",
       "        text-align: right;\n",
       "    }\n",
       "</style>\n",
       "<table border=\"1\" class=\"dataframe\">\n",
       "  <thead>\n",
       "    <tr style=\"text-align: right;\">\n",
       "      <th></th>\n",
       "      <th>Coefficient</th>\n",
       "    </tr>\n",
       "  </thead>\n",
       "  <tbody>\n",
       "    <tr>\n",
       "      <th>excellent</th>\n",
       "      <td>0.765682</td>\n",
       "    </tr>\n",
       "    <tr>\n",
       "      <th>perfect</th>\n",
       "      <td>0.533964</td>\n",
       "    </tr>\n",
       "    <tr>\n",
       "      <th>wonderful</th>\n",
       "      <td>0.527853</td>\n",
       "    </tr>\n",
       "    <tr>\n",
       "      <th>enjoyed</th>\n",
       "      <td>0.523159</td>\n",
       "    </tr>\n",
       "    <tr>\n",
       "      <th>loved</th>\n",
       "      <td>0.506878</td>\n",
       "    </tr>\n",
       "    <tr>\n",
       "      <th>...</th>\n",
       "      <td>...</td>\n",
       "    </tr>\n",
       "    <tr>\n",
       "      <th>instead</th>\n",
       "      <td>-0.624578</td>\n",
       "    </tr>\n",
       "    <tr>\n",
       "      <th>awful</th>\n",
       "      <td>-0.670822</td>\n",
       "    </tr>\n",
       "    <tr>\n",
       "      <th>waste</th>\n",
       "      <td>-0.689985</td>\n",
       "    </tr>\n",
       "    <tr>\n",
       "      <th>poor</th>\n",
       "      <td>-0.702775</td>\n",
       "    </tr>\n",
       "    <tr>\n",
       "      <th>worst</th>\n",
       "      <td>-0.838777</td>\n",
       "    </tr>\n",
       "  </tbody>\n",
       "</table>\n",
       "<p>10000 rows × 1 columns</p>\n",
       "</div>"
      ],
      "text/plain": [
       "           Coefficient\n",
       "excellent     0.765682\n",
       "perfect       0.533964\n",
       "wonderful     0.527853\n",
       "enjoyed       0.523159\n",
       "loved         0.506878\n",
       "...                ...\n",
       "instead      -0.624578\n",
       "awful        -0.670822\n",
       "waste        -0.689985\n",
       "poor         -0.702775\n",
       "worst        -0.838777\n",
       "\n",
       "[10000 rows x 1 columns]"
      ]
     },
     "execution_count": 28,
     "metadata": {},
     "output_type": "execute_result"
    }
   ],
   "source": [
    "word_coeff_df.sort_values(by=\"Coefficient\", ascending=False)"
   ]
  },
  {
   "cell_type": "markdown",
   "id": "f0daa02b-da50-429f-a4e2-9256b9ed25bd",
   "metadata": {
    "editable": true,
    "slideshow": {
     "slide_type": ""
    },
    "tags": []
   },
   "source": [
    "- The coefficients make sense!"
   ]
  },
  {
   "cell_type": "markdown",
   "id": "696edbf8-6ae8-425c-a5da-d0e627cefb6c",
   "metadata": {
    "slideshow": {
     "slide_type": "slide"
    }
   },
   "source": [
    "Let's visualize the top 20 features."
   ]
  },
  {
   "cell_type": "code",
   "execution_count": 30,
   "id": "287c277a-acfb-41b9-aa35-5f1bbe1a96ef",
   "metadata": {},
   "outputs": [
    {
     "data": {
      "image/png": "[encoded data removed]",
      "text/plain": [
       "<Figure size 1500x500 with 1 Axes>"
      ]
     },
     "metadata": {},
     "output_type": "display_data"
    }
   ],
   "source": [
    "mglearn.tools.visualize_coefficients(coeffs, feature_names, n_top_features=20)"
   ]
  },
  {
   "cell_type": "markdown",
   "id": "7ab454ea-de44-4c17-912a-771fb2359fd1",
   "metadata": {
    "slideshow": {
     "slide_type": "slide"
    }
   },
   "source": [
    "Let's explore prediction of the following new review. "
   ]
  },
  {
   "cell_type": "code",
   "execution_count": 31,
   "id": "89b90ff4-d3f9-4bb9-9ce0-3479581d5d6d",
   "metadata": {},
   "outputs": [],
   "source": [
    "fake_reviews = [\"It got a bit boring at times but the direction was excellent and the acting was flawless. Overall I enjoyed the movie and I highly recommend it!\",\n",
    " \"The plot was shallower than a kiddie pool in a drought, but hey, at least we now know emojis should stick to texting and avoid the big screen.\"\n",
    "]"
   ]
  },
  {
   "cell_type": "markdown",
   "id": "3348e587-8cb2-4e4d-a321-d10fde70070c",
   "metadata": {
    "slideshow": {
     "slide_type": "slide"
    }
   },
   "source": [
    "Let's get prediction probability scores of the fake review. "
   ]
  },
  {
   "cell_type": "code",
   "execution_count": 32,
   "id": "2087419c-8602-4303-983a-1f7415d0495a",
   "metadata": {},
   "outputs": [
    {
     "data": {
      "text/plain": [
       "array(['positive', 'negative'], dtype=object)"
      ]
     },
     "execution_count": 32,
     "metadata": {},
     "output_type": "execute_result"
    }
   ],
   "source": [
    "pipe_lr.predict(fake_reviews)"
   ]
  },
  {
   "cell_type": "code",
   "execution_count": 33,
   "id": "3c985b9a-52be-4153-a61d-596f4ffb956c",
   "metadata": {},
   "outputs": [
    {
     "data": {
      "text/plain": [
       "array([[0.12358584, 0.87641416],\n",
       "       [0.63773958, 0.36226042]])"
      ]
     },
     "execution_count": 33,
     "metadata": {},
     "output_type": "execute_result"
    }
   ],
   "source": [
    "# Get prediction probabilities for fake reviews \n",
    "pipe_lr.predict_proba(fake_reviews)"
   ]
  },
  {
   "cell_type": "code",
   "execution_count": 37,
   "id": "8392db22-4c70-41d0-accb-a33e7aebbdbe",
   "metadata": {},
   "outputs": [
    {
     "data": {
      "text/plain": [
       "array(['negative', 'positive'], dtype=object)"
      ]
     },
     "execution_count": 37,
     "metadata": {},
     "output_type": "execute_result"
    }
   ],
   "source": [
    "pipe_lr.classes_"
   ]
  },
  {
   "cell_type": "markdown",
   "id": "915ec98e-e607-43fd-837b-34cee994d756",
   "metadata": {
    "slideshow": {
     "slide_type": "slide"
    }
   },
   "source": [
    "We can find which of the vocabulary words are present in this review:"
   ]
  },
  {
   "cell_type": "code",
   "execution_count": 38,
   "id": "731965cb-66a5-4827-b74e-ec4ff19e817e",
   "metadata": {},
   "outputs": [],
   "source": [
    "def plot_coeff_example(model, review, coeffs, feature_names, n_top_feats=6):\n",
    "    print(review)\n",
    "    feat_vec = model.named_steps[\"countvectorizer\"].transform([review])\n",
    "    words_in_ex = feat_vec.toarray().ravel().astype(bool)\n",
    "\n",
    "    ex_df = pd.DataFrame(\n",
    "        data=coeffs[words_in_ex],\n",
    "        index=np.array(feature_names)[words_in_ex],\n",
    "        columns=[\"Coefficient\"],\n",
    "    )\n",
    "    mglearn.tools.visualize_coefficients(\n",
    "    coeffs[words_in_ex], np.array(feature_names)[words_in_ex], n_top_features=n_top_feats\n",
    "    )\n",
    "    return ex_df.sort_values(by=[\"Coefficient\"], ascending=False)"
   ]
  },
  {
   "cell_type": "code",
   "execution_count": 39,
   "id": "e62c022f-7adf-4c62-907a-aef04551d954",
   "metadata": {},
   "outputs": [
    {
     "name": "stdout",
     "output_type": "stream",
     "text": [
      "It got a bit boring at times but the direction was excellent and the acting was flawless. Overall I enjoyed the movie and I highly recommend it!\n"
     ]
    },
    {
     "data": {
      "text/html": [
       "<div>\n",
       "<style scoped>\n",
       "    .dataframe tbody tr th:only-of-type {\n",
       "        vertical-align: middle;\n",
       "    }\n",
       "\n",
       "    .dataframe tbody tr th {\n",
       "        vertical-align: top;\n",
       "    }\n",
       "\n",
       "    .dataframe thead th {\n",
       "        text-align: right;\n",
       "    }\n",
       "</style>\n",
       "<table border=\"1\" class=\"dataframe\">\n",
       "  <thead>\n",
       "    <tr style=\"text-align: right;\">\n",
       "      <th></th>\n",
       "      <th>Coefficient</th>\n",
       "    </tr>\n",
       "  </thead>\n",
       "  <tbody>\n",
       "    <tr>\n",
       "      <th>excellent</th>\n",
       "      <td>0.765682</td>\n",
       "    </tr>\n",
       "    <tr>\n",
       "      <th>enjoyed</th>\n",
       "      <td>0.523159</td>\n",
       "    </tr>\n",
       "    <tr>\n",
       "      <th>highly</th>\n",
       "      <td>0.394696</td>\n",
       "    </tr>\n",
       "    <tr>\n",
       "      <th>bit</th>\n",
       "      <td>0.321689</td>\n",
       "    </tr>\n",
       "    <tr>\n",
       "      <th>recommend</th>\n",
       "      <td>0.242084</td>\n",
       "    </tr>\n",
       "    <tr>\n",
       "      <th>times</th>\n",
       "      <td>0.153180</td>\n",
       "    </tr>\n",
       "    <tr>\n",
       "      <th>flawless</th>\n",
       "      <td>0.098013</td>\n",
       "    </tr>\n",
       "    <tr>\n",
       "      <th>overall</th>\n",
       "      <td>0.016189</td>\n",
       "    </tr>\n",
       "    <tr>\n",
       "      <th>got</th>\n",
       "      <td>0.008625</td>\n",
       "    </tr>\n",
       "    <tr>\n",
       "      <th>movie</th>\n",
       "      <td>-0.007893</td>\n",
       "    </tr>\n",
       "    <tr>\n",
       "      <th>direction</th>\n",
       "      <td>-0.084161</td>\n",
       "    </tr>\n",
       "    <tr>\n",
       "      <th>acting</th>\n",
       "      <td>-0.142294</td>\n",
       "    </tr>\n",
       "    <tr>\n",
       "      <th>boring</th>\n",
       "      <td>-0.554600</td>\n",
       "    </tr>\n",
       "  </tbody>\n",
       "</table>\n",
       "</div>"
      ],
      "text/plain": [
       "           Coefficient\n",
       "excellent     0.765682\n",
       "enjoyed       0.523159\n",
       "highly        0.394696\n",
       "bit           0.321689\n",
       "recommend     0.242084\n",
       "times         0.153180\n",
       "flawless      0.098013\n",
       "overall       0.016189\n",
       "got           0.008625\n",
       "movie        -0.007893\n",
       "direction    -0.084161\n",
       "acting       -0.142294\n",
       "boring       -0.554600"
      ]
     },
     "execution_count": 39,
     "metadata": {},
     "output_type": "execute_result"
    },
    {
     "data": {
      "image/png": "[encoded data removed]",
      "text/plain": [
       "<Figure size 1500x500 with 1 Axes>"
      ]
     },
     "metadata": {},
     "output_type": "display_data"
    }
   ],
   "source": [
    "plot_coeff_example(pipe_lr, fake_reviews[0], coeffs, feature_names)"
   ]
  },
  {
   "cell_type": "code",
   "execution_count": 40,
   "id": "049fa489-046b-424c-b2b1-22c4c255c409",
   "metadata": {},
   "outputs": [
    {
     "name": "stdout",
     "output_type": "stream",
     "text": [
      "The plot was shallower than a kiddie pool in a drought, but hey, at least we now know emojis should stick to texting and avoid the big screen.\n"
     ]
    },
    {
     "data": {
      "text/html": [
       "<div>\n",
       "<style scoped>\n",
       "    .dataframe tbody tr th:only-of-type {\n",
       "        vertical-align: middle;\n",
       "    }\n",
       "\n",
       "    .dataframe tbody tr th {\n",
       "        vertical-align: top;\n",
       "    }\n",
       "\n",
       "    .dataframe thead th {\n",
       "        text-align: right;\n",
       "    }\n",
       "</style>\n",
       "<table border=\"1\" class=\"dataframe\">\n",
       "  <thead>\n",
       "    <tr style=\"text-align: right;\">\n",
       "      <th></th>\n",
       "      <th>Coefficient</th>\n",
       "    </tr>\n",
       "  </thead>\n",
       "  <tbody>\n",
       "    <tr>\n",
       "      <th>know</th>\n",
       "      <td>0.100988</td>\n",
       "    </tr>\n",
       "    <tr>\n",
       "      <th>pool</th>\n",
       "      <td>0.046735</td>\n",
       "    </tr>\n",
       "    <tr>\n",
       "      <th>hey</th>\n",
       "      <td>0.026768</td>\n",
       "    </tr>\n",
       "    <tr>\n",
       "      <th>kiddie</th>\n",
       "      <td>-0.004505</td>\n",
       "    </tr>\n",
       "    <tr>\n",
       "      <th>screen</th>\n",
       "      <td>-0.018955</td>\n",
       "    </tr>\n",
       "    <tr>\n",
       "      <th>big</th>\n",
       "      <td>-0.092483</td>\n",
       "    </tr>\n",
       "    <tr>\n",
       "      <th>stick</th>\n",
       "      <td>-0.102944</td>\n",
       "    </tr>\n",
       "    <tr>\n",
       "      <th>avoid</th>\n",
       "      <td>-0.303257</td>\n",
       "    </tr>\n",
       "    <tr>\n",
       "      <th>plot</th>\n",
       "      <td>-0.442446</td>\n",
       "    </tr>\n",
       "  </tbody>\n",
       "</table>\n",
       "</div>"
      ],
      "text/plain": [
       "        Coefficient\n",
       "know       0.100988\n",
       "pool       0.046735\n",
       "hey        0.026768\n",
       "kiddie    -0.004505\n",
       "screen    -0.018955\n",
       "big       -0.092483\n",
       "stick     -0.102944\n",
       "avoid     -0.303257\n",
       "plot      -0.442446"
      ]
     },
     "execution_count": 40,
     "metadata": {},
     "output_type": "execute_result"
    },
    {
     "data": {
      "image/png": "[encoded data removed]",
      "text/plain": [
       "<Figure size 1500x500 with 1 Axes>"
      ]
     },
     "metadata": {},
     "output_type": "display_data"
    }
   ],
   "source": [
    "plot_coeff_example(pipe_lr, fake_reviews[1], coeffs, feature_names)"
   ]
  },
  {
   "cell_type": "markdown",
   "id": "0f50d3ed-b26a-4fb4-ad47-a3058b4f8cb8",
   "metadata": {
    "slideshow": {
     "slide_type": "slide"
    }
   },
   "source": [
    "<br><br><br><br>"
   ]
  },
  {
   "cell_type": "markdown",
   "id": "bf58fa9d-81c7-4288-9f1b-339b8f8d0e33",
   "metadata": {
    "slideshow": {
     "slide_type": "slide"
    }
   },
   "source": [
    "### Most positive review "
   ]
  },
  {
   "cell_type": "markdown",
   "id": "84a507cd-f97c-4d2e-9178-21b75855d82e",
   "metadata": {},
   "source": [
    "- Remember that you can look at the probabilities (confidence) of the classifier's prediction using the `model.predict_proba` method.\n",
    "- Can we find the reviews where our classifier is most certain or least certain?"
   ]
  },
  {
   "cell_type": "code",
   "execution_count": 41,
   "id": "dc71504d-6ef7-4d4d-bf8e-aed651f7d4fb",
   "metadata": {},
   "outputs": [
    {
     "data": {
      "text/plain": [
       "array([0.89358994, 0.90478651, 0.00191901, ..., 0.01428111, 0.79238893,\n",
       "       0.33434653], shape=(2999,))"
      ]
     },
     "execution_count": 41,
     "metadata": {},
     "output_type": "execute_result"
    }
   ],
   "source": [
    "# only get probabilities associated with pos class\n",
    "pos_probs = pipe_lr.predict_proba(X_train)[\n",
    "    :, 1\n",
    "]  # only get probabilities associated with pos class\n",
    "pos_probs"
   ]
  },
  {
   "cell_type": "markdown",
   "id": "59bc44c2-5387-4346-96de-42d9e98620dd",
   "metadata": {
    "slideshow": {
     "slide_type": "slide"
    }
   },
   "source": [
    "What's the index of the example where the classifier is most certain (highest `predict_proba` score for positive)?"
   ]
  },
  {
   "cell_type": "code",
   "execution_count": 45,
   "id": "9e1c44e8-aeae-44db-82c8-ff3db10fb328",
   "metadata": {},
   "outputs": [
    {
     "data": {
      "text/plain": [
       "np.int64(1117)"
      ]
     },
     "execution_count": 45,
     "metadata": {},
     "output_type": "execute_result"
    }
   ],
   "source": [
    "most_positive_id = np.argmax(pos_probs)\n",
    "most_positive_id"
   ]
  },
  {
   "cell_type": "code",
   "execution_count": 46,
   "id": "8e4d065d-5ab3-4b6f-8fe6-c0f19c654202",
   "metadata": {
    "slideshow": {
     "slide_type": "slide"
    }
   },
   "outputs": [
    {
     "name": "stdout",
     "output_type": "stream",
     "text": [
      "True target: positive\n",
      "\n",
      "Predicted target: positive\n",
      "\n",
      "Prediction probability: 1.0000\n"
     ]
    }
   ],
   "source": [
    "print(\"True target: %s\\n\" % (y_train.iloc[most_positive_id]))\n",
    "print(\"Predicted target: %s\\n\" % (pipe_lr.predict(X_train.iloc[[most_positive_id]])[0]))\n",
    "print(\"Prediction probability: %0.4f\" % (pos_probs[most_positive_id]))"
   ]
  },
  {
   "cell_type": "markdown",
   "id": "ca3587da-acb1-490a-8d09-cabc6ff2c9ce",
   "metadata": {
    "slideshow": {
     "slide_type": "slide"
    }
   },
   "source": [
    "Let's examine the features associated with the review. "
   ]
  },
  {
   "cell_type": "code",
   "execution_count": 47,
   "id": "5d136b23-c082-4b76-9f00-4890e534248a",
   "metadata": {},
   "outputs": [
    {
     "name": "stdout",
     "output_type": "stream",
     "text": [
      "Horror-genius Dario Argento is one of my personal favorite directors, and his films \"Suspiria\", \"Phenomena\" and \"Profondo Rosso\" range high on my personal all-time favorite list. \"Opera\" of 1987 is yet another tantalizing and brilliant film that no Horror lover can afford to miss, and that will keep you on the edge of your chair from the beginning to the end. This stunning and ultra-violent Giallo could well be described as the master's nastiest film, which is quite something considering that Argento's films are not exactly known for the tameness of their violence. The violence is extreme and very stylized in a brilliant way that makes Opera a film censor's nightmare.  - Warning! SPOILERS ahead! -   Just when Betty (Christina Marsillach), a young opera singer, is becoming successful, a murderous and incredibly sadistic psychopath starts stalking her... The murders are truly brutal, and of particularly sadistic nature. The killer attaches needles to the tied up Betty's eyelids, so she has to keep them open and watch while he brutally murders people close to her in abhorrent ways. When done with the butchering, the killer releases Betty and leaves, just to come back for other friends of hers...  As usual for Argento's films, the violence is extremely graphic and very stylized. \"Opera\" truly is a brutal film, and what a stylish and atmospheric film it is. This film is absolutely tantalizing and pure suspense from the beginning to the end. The performances are entirely very good, especially Christina Marsillach is brilliant in the lead. A stunning beauty and great actress alike, Marsillach fits perfectly in her role of the talented singer, whose fear and horrid experiences are slowly making her crazy. Other great performances include those of Ian Charleston as a Horror film director who is directing an Opera, and director Argento's real-life girlfriend Daria Nicolodi, who has a role in many of his movies. The camera work is excellent as in all Argento films and The huge Opera House is an excellent setting that contributes a lot both to the film's beauty and its permanently creepy atmosphere. The score, which is partly classical music and partly heavy metal is great too, even though I slightly missed Goblin's brilliant Progressive Rock Soundtracks that are such a distinguishing element of most other Argento movies. \"Opera\" truly is a terrifying and absolutely breathtaking Giallo experience. This is an absolute must-see for any Horror lover, and I highly recommend it to any other film-fan who is not too sensitive when it comes to extreme violence. Excellent and absolutely tantalizing!\n"
     ]
    },
    {
     "data": {
      "text/html": [
       "<div>\n",
       "<style scoped>\n",
       "    .dataframe tbody tr th:only-of-type {\n",
       "        vertical-align: middle;\n",
       "    }\n",
       "\n",
       "    .dataframe tbody tr th {\n",
       "        vertical-align: top;\n",
       "    }\n",
       "\n",
       "    .dataframe thead th {\n",
       "        text-align: right;\n",
       "    }\n",
       "</style>\n",
       "<table border=\"1\" class=\"dataframe\">\n",
       "  <thead>\n",
       "    <tr style=\"text-align: right;\">\n",
       "      <th></th>\n",
       "      <th>Coefficient</th>\n",
       "    </tr>\n",
       "  </thead>\n",
       "  <tbody>\n",
       "    <tr>\n",
       "      <th>excellent</th>\n",
       "      <td>0.765682</td>\n",
       "    </tr>\n",
       "    <tr>\n",
       "      <th>great</th>\n",
       "      <td>0.477544</td>\n",
       "    </tr>\n",
       "    <tr>\n",
       "      <th>favorite</th>\n",
       "      <td>0.447169</td>\n",
       "    </tr>\n",
       "    <tr>\n",
       "      <th>brilliant</th>\n",
       "      <td>0.396800</td>\n",
       "    </tr>\n",
       "    <tr>\n",
       "      <th>highly</th>\n",
       "      <td>0.394696</td>\n",
       "    </tr>\n",
       "    <tr>\n",
       "      <th>...</th>\n",
       "      <td>...</td>\n",
       "    </tr>\n",
       "    <tr>\n",
       "      <th>girlfriend</th>\n",
       "      <td>-0.143693</td>\n",
       "    </tr>\n",
       "    <tr>\n",
       "      <th>just</th>\n",
       "      <td>-0.145718</td>\n",
       "    </tr>\n",
       "    <tr>\n",
       "      <th>director</th>\n",
       "      <td>-0.245329</td>\n",
       "    </tr>\n",
       "    <tr>\n",
       "      <th>lead</th>\n",
       "      <td>-0.247726</td>\n",
       "    </tr>\n",
       "    <tr>\n",
       "      <th>killer</th>\n",
       "      <td>-0.266321</td>\n",
       "    </tr>\n",
       "  </tbody>\n",
       "</table>\n",
       "<p>138 rows × 1 columns</p>\n",
       "</div>"
      ],
      "text/plain": [
       "            Coefficient\n",
       "excellent      0.765682\n",
       "great          0.477544\n",
       "favorite       0.447169\n",
       "brilliant      0.396800\n",
       "highly         0.394696\n",
       "...                 ...\n",
       "girlfriend    -0.143693\n",
       "just          -0.145718\n",
       "director      -0.245329\n",
       "lead          -0.247726\n",
       "killer        -0.266321\n",
       "\n",
       "[138 rows x 1 columns]"
      ]
     },
     "execution_count": 47,
     "metadata": {},
     "output_type": "execute_result"
    },
    {
     "data": {
      "image/png": "[encoded data removed]",
      "text/plain": [
       "<Figure size 1500x500 with 1 Axes>"
      ]
     },
     "metadata": {},
     "output_type": "display_data"
    }
   ],
   "source": [
    "plot_coeff_example(pipe_lr, X_train.iloc[most_positive_id], coeffs, feature_names)"
   ]
  },
  {
   "cell_type": "markdown",
   "id": "767203c4-8837-4b87-9e5c-432e76a4634b",
   "metadata": {},
   "source": [
    "The review has both positive and negative words but the words with **positive** coefficients win in this case! "
   ]
  },
  {
   "cell_type": "markdown",
   "id": "007f00b9-1466-4052-854e-a59c70b414d6",
   "metadata": {
    "slideshow": {
     "slide_type": "slide"
    }
   },
   "source": [
    "### Most negative review "
   ]
  },
  {
   "cell_type": "code",
   "execution_count": 48,
   "id": "a49743b5-cae4-4530-aeb1-ff4e8db1e6eb",
   "metadata": {},
   "outputs": [
    {
     "data": {
      "text/plain": [
       "array([0.10641006, 0.09521349, 0.99808099, ..., 0.98571889, 0.20761107,\n",
       "       0.66565347], shape=(2999,))"
      ]
     },
     "execution_count": 48,
     "metadata": {},
     "output_type": "execute_result"
    }
   ],
   "source": [
    "neg_probs = pipe_lr.predict_proba(X_train)[\n",
    "    :, 0\n",
    "]  # only get probabilities associated with neg class\n",
    "neg_probs"
   ]
  },
  {
   "cell_type": "code",
   "execution_count": 49,
   "id": "f1ffe697-3b4f-4e53-afc0-95439faa31d3",
   "metadata": {},
   "outputs": [],
   "source": [
    "most_negative_id = np.argmax(neg_probs)"
   ]
  },
  {
   "cell_type": "code",
   "execution_count": 50,
   "id": "00df177e-ac45-4085-a750-6b60a2ff2d15",
   "metadata": {
    "slideshow": {
     "slide_type": "slide"
    }
   },
   "outputs": [
    {
     "name": "stdout",
     "output_type": "stream",
     "text": [
      "Review: 1735    Komodo vs. Cobra starts as 'One Planet' environmentalist Jerry Ryan (Ryan McTavish) & his girlfriend Carrie (Renee Talbert) hire Captain Michael Stoddard (executive producer Michael ParÃ©) to take...\n",
      "Name: review_pp, dtype: object\n",
      "\n",
      "True target: negative\n",
      "\n",
      "Predicted target: negative\n",
      "\n",
      "Prediction probability: 1.0000\n"
     ]
    }
   ],
   "source": [
    "print(\"Review: %s\\n\" % (X_train.iloc[[most_negative_id]]))\n",
    "print(\"True target: %s\\n\" % (y_train.iloc[most_negative_id]))\n",
    "print(\"Predicted target: %s\\n\" % (pipe_lr.predict(X_train.iloc[[most_negative_id]])[0]))\n",
    "print(\"Prediction probability: %0.4f\" % (neg_probs[most_negative_id]))"
   ]
  },
  {
   "cell_type": "code",
   "execution_count": 51,
   "id": "4df862bd-343c-4f02-9cda-02c70122a8b7",
   "metadata": {
    "slideshow": {
     "slide_type": "slide"
    }
   },
   "outputs": [
    {
     "name": "stdout",
     "output_type": "stream",
     "text": [
      "Komodo vs. Cobra starts as 'One Planet' environmentalist Jerry Ryan (Ryan McTavish) & his girlfriend Carrie (Renee Talbert) hire Captain Michael Stoddard (executive producer Michael ParÃ©) to take them to an island in the South Pacific, at first Stoddard is reluctant since the island is a top secret military research base but soon changes his mind when a load of cash is offered. Along with TV news reporter Sandra Crescent (Jeri Manthey) they set sail for the island & once ashore find out that the military have been funding illegal DNA genetic experiments which have resulted in huge Komodo Dragon's & King Cobra's that have eaten almost every other living thing there & Stoddard & co are next on the menu...  Co-written & directed by the ever awful Jim Wynorski under his Jay Andrews pseudonym this is just plain awful, this is just plain hard to sit through & is even worse than the usual rubbish 'Creature Features' the Sci-Fi Channel have the nerve to air if that's possible. The script is terrible, predictable & utterly boring, some giant monsters of some sort are created by scientists messing around with DNA, a group of people are trapped with said monsters & have to try to escape being eaten. That's it, that's the whole plot of Komodo vs. Cobra, maybe this was trying to rip-off AVP: Alien vs. Predator (2004) with the title but all the 'vs.' bit amounts to is a rubbish thirty second stand-off between the two titular beasts at the very end, boring as hell & surely a big disappointment to anyone hoping to have a full on monster mash. The character's are poor, the dialogue is awful, the pace is slow, the story is predictable & clichÃ© ridden & the whole film just sucks really with a lazy script that states wrongly that both Komodo Dragon's & Cobra's are amphibious which they are not. Hell, Komodo vs. Cobra isn't even worth watching for any unintentional laughs since it's so dull & hardly anything ever happens although the sight of a woman hiding behind the smallest rock on the beach from the Cobra is quite funny for the wrong reasons.  How does Wynorski keep getting directing jobs? He is probably consistently the worst director currently working, how can he keep getting fun sounding films set on beautiful locations with half decent casts & still churn out such an awful film? I think this was cut to get a PG or for it's TV showing since every time someone swears it's masked by a Parrot squeak! There's zero gore or violence & the monster scenes are limp, people just sort of stand there, the monsters just sort of stands there too hissing or roaring & that's about it. The CGI computer effects are terrible, this is really poor stuff that just looks horrible.  With a supposed budget of about $450,000 this looks as cheap as it was, the Hawaiian locations are nice to look at but that's about it. The acting is poor from an uninterested looking cast.  Komodo vs. Cobra is an absolutely terrible Sci-Fi Channel 'Creature Feature' from Jim Wynorski, films don't get much worse than this.\n"
     ]
    },
    {
     "data": {
      "text/html": [
       "<div>\n",
       "<style scoped>\n",
       "    .dataframe tbody tr th:only-of-type {\n",
       "        vertical-align: middle;\n",
       "    }\n",
       "\n",
       "    .dataframe tbody tr th {\n",
       "        vertical-align: top;\n",
       "    }\n",
       "\n",
       "    .dataframe thead th {\n",
       "        text-align: right;\n",
       "    }\n",
       "</style>\n",
       "<table border=\"1\" class=\"dataframe\">\n",
       "  <thead>\n",
       "    <tr style=\"text-align: right;\">\n",
       "      <th></th>\n",
       "      <th>Coefficient</th>\n",
       "    </tr>\n",
       "  </thead>\n",
       "  <tbody>\n",
       "    <tr>\n",
       "      <th>bit</th>\n",
       "      <td>0.321689</td>\n",
       "    </tr>\n",
       "    <tr>\n",
       "      <th>beautiful</th>\n",
       "      <td>0.311584</td>\n",
       "    </tr>\n",
       "    <tr>\n",
       "      <th>fun</th>\n",
       "      <td>0.307410</td>\n",
       "    </tr>\n",
       "    <tr>\n",
       "      <th>ryan</th>\n",
       "      <td>0.197469</td>\n",
       "    </tr>\n",
       "    <tr>\n",
       "      <th>monsters</th>\n",
       "      <td>0.184477</td>\n",
       "    </tr>\n",
       "    <tr>\n",
       "      <th>...</th>\n",
       "      <td>...</td>\n",
       "    </tr>\n",
       "    <tr>\n",
       "      <th>boring</th>\n",
       "      <td>-0.554600</td>\n",
       "    </tr>\n",
       "    <tr>\n",
       "      <th>terrible</th>\n",
       "      <td>-0.593401</td>\n",
       "    </tr>\n",
       "    <tr>\n",
       "      <th>awful</th>\n",
       "      <td>-0.670822</td>\n",
       "    </tr>\n",
       "    <tr>\n",
       "      <th>poor</th>\n",
       "      <td>-0.702775</td>\n",
       "    </tr>\n",
       "    <tr>\n",
       "      <th>worst</th>\n",
       "      <td>-0.838777</td>\n",
       "    </tr>\n",
       "  </tbody>\n",
       "</table>\n",
       "<p>189 rows × 1 columns</p>\n",
       "</div>"
      ],
      "text/plain": [
       "           Coefficient\n",
       "bit           0.321689\n",
       "beautiful     0.311584\n",
       "fun           0.307410\n",
       "ryan          0.197469\n",
       "monsters      0.184477\n",
       "...                ...\n",
       "boring       -0.554600\n",
       "terrible     -0.593401\n",
       "awful        -0.670822\n",
       "poor         -0.702775\n",
       "worst        -0.838777\n",
       "\n",
       "[189 rows x 1 columns]"
      ]
     },
     "execution_count": 51,
     "metadata": {},
     "output_type": "execute_result"
    },
    {
     "data": {
      "image/png": "[encoded data removed]",
      "text/plain": [
       "<Figure size 1500x500 with 1 Axes>"
      ]
     },
     "metadata": {},
     "output_type": "display_data"
    }
   ],
   "source": [
    "plot_coeff_example(pipe_lr, X_train.iloc[most_negative_id], coeffs, feature_names)"
   ]
  },
  {
   "cell_type": "markdown",
   "id": "b5d0bb45-61ba-4c50-b20e-7e37f06b9e07",
   "metadata": {},
   "source": [
    "The review has both positive and negative words but the words with negative coefficients win in this case! "
   ]
  },
  {
   "cell_type": "markdown",
   "id": "b1f8ca22-1e3b-4f7a-8be2-55cc622e00ac",
   "metadata": {
    "editable": true,
    "slideshow": {
     "slide_type": ""
    },
    "tags": []
   },
   "source": [
    "## Activity: Discuss the following questions in your group\n",
    "\n",
    "- Is it possible to identify most important features using $k$-NNs? What about decision trees?  \n",
    "\n",
    "<br><br><br><br>"
   ]
  }
 ],
 "metadata": {
  "kernelspec": {
   "display_name": "Python [conda env:cpsc330] *",
   "language": "python",
   "name": "conda-env-cpsc330-py"
  },
  "language_info": {
   "codemirror_mode": {
    "name": "ipython",
    "version": 3
   },
   "file_extension": ".py",
   "mimetype": "text/x-python",
   "name": "python",
   "nbconvert_exporter": "python",
   "pygments_lexer": "ipython3",
   "version": "3.12.0"
  }
 },
 "nbformat": 4,
 "nbformat_minor": 5
}
